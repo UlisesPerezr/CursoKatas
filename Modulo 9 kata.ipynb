{
 "cells": [
  {
   "cell_type": "markdown",
   "metadata": {},
   "source": [
    "# Ejercicio: Uso de funciones en Python"
   ]
  },
  {
   "cell_type": "markdown",
   "metadata": {},
   "source": [
    "### Ejercicio 1: Trabajando cona argumentos en funciones"
   ]
  },
  {
   "cell_type": "code",
   "execution_count": null,
   "metadata": {},
   "outputs": [],
   "source": [
    "# Comienza por crear una función que necesite tres lecturas de combustible y devuelva un informe:\n",
    "\n",
    "def informes(tanque1, tanque2, tanque3):\n",
    "    totalCombustible = (tanque1 + tanque2 + tanque3) / 3\n",
    "    return f\"\"\"Informe de conbustible:\n",
    "    Primer tanque: {tanque1}%\n",
    "    Segundo tanque: {tanque2}%\n",
    "    Tercer tanque: {tanque3}%\n",
    "    Promedio total: {totalCombustible}%\n",
    "    \"\"\""
   ]
  },
  {
   "cell_type": "code",
   "execution_count": null,
   "metadata": {},
   "outputs": [],
   "source": [
    "# hora que hemos definido la función de informes, vamos a comprobarlo. \n",
    "# Para esta misión, los tanques no están llenos:\n",
    "\n",
    "print(informes(0, 0, 0))"
   ]
  },
  {
   "cell_type": "code",
   "execution_count": null,
   "metadata": {},
   "outputs": [],
   "source": [
    "# Mejora la legibilidad extrayendo el cálculo promedio de la función en una nueva función \n",
    "# para que el promedio se pueda hacer de forma independiente:\n",
    "\n",
    "def funcionPromedio(*args):\n",
    "    totalCombustible = sum(args) / 3\n",
    "    return totalCombustible"
   ]
  },
  {
   "cell_type": "code",
   "execution_count": null,
   "metadata": {},
   "outputs": [],
   "source": [
    "# Ahora actualiza la función de informes para llamando a la nueva función del promedio:\n",
    "\n",
    "def informes(tanque1, tanque2, tanque3):\n",
    "    return f\"\"\"Informe de conbustible:\n",
    "    Primer tanque: {tanque1}%\n",
    "    Segundo tanque: {tanque2}%\n",
    "    Tercer tanque: {tanque3}%\n",
    "    Promedio total: {funcionPromedio(tanque1,tanque2,tanque3)}%\n",
    "    \"\"\"\n",
    "\n",
    "print(informes(10,20,10))"
   ]
  },
  {
   "cell_type": "markdown",
   "metadata": {},
   "source": [
    "# Ejercicio 2: Trabajando con argumentos de palabras clave"
   ]
  },
  {
   "cell_type": "code",
   "execution_count": null,
   "metadata": {},
   "outputs": [],
   "source": [
    "# Función con un informe preciso de la misión.\n",
    "# Considera hora de prelanzamiento, tiempo de vuelo, destino,\n",
    "\n",
    "def informe(horaLanzamiento, tiempoVuelo, destino, tanqueIzquierdo):\n",
    "    return f\"\"\"Informe General:\n",
    "    Hora de lanzamiento: {horaLanzamiento}\n",
    "    Tiempo de vuelo: {tiempoVuelo}\n",
    "    Lugar de destino: {destino} \n",
    "    Cantidad de galones: {tanqueIzquierdo}\n",
    "    \"\"\"\n",
    "\n",
    "print(informe(15,20,\"Luna\", 40000))"
   ]
  },
  {
   "cell_type": "code",
   "execution_count": null,
   "metadata": {},
   "outputs": [],
   "source": [
    "# Escribe tu nueva función de reporte considerando lo anterior\n",
    "\n",
    "def reporte(*minutos, **combustibleAdicional):\n",
    "    return f\"\"\"Informacion adicional:\n",
    "    minutos agregados: {sum(minutos)}\n",
    "    gallones agregados: {sum(combustibleAdicional.values())}\n",
    "    \"\"\"\n",
    "print(reporte(10,20,30,50,central=5000, cubierta=1000))"
   ]
  },
  {
   "cell_type": "code",
   "execution_count": null,
   "metadata": {},
   "outputs": [],
   "source": [
    "# Escribe tu nueva función\n",
    "\n",
    "def reporte(*minutos, **combustibleAdicional):\n",
    "    print(f\"\"\"Informacion adicional:\n",
    "    minutos agregados: {sum(minutos)}\n",
    "    gallones agregados: {sum(combustibleAdicional.values())}\n",
    "    \"\"\")\n",
    "    for nombreCombustible, cantidad in combustibleAdicional.items():\n",
    "        print(f'{nombreCombustible}:{cantidad}')\n",
    "\n",
    "reporte(10,20,50,20,central=5000,interno=1000)"
   ]
  }
 ],
 "metadata": {
  "interpreter": {
   "hash": "38740d3277777e2cd7c6c2cc9d8addf5118fdf3f82b1b39231fd12aeac8aee8b"
  },
  "kernelspec": {
   "display_name": "Python 3.10.2 64-bit",
   "language": "python",
   "name": "python3"
  },
  "language_info": {
   "codemirror_mode": {
    "name": "ipython",
    "version": 3
   },
   "file_extension": ".py",
   "mimetype": "text/x-python",
   "name": "python",
   "nbconvert_exporter": "python",
   "pygments_lexer": "ipython3",
   "version": "3.10.2"
  },
  "orig_nbformat": 4
 },
 "nbformat": 4,
 "nbformat_minor": 2
}
