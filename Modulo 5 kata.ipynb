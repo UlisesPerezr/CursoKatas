{
 "cells": [
  {
   "cell_type": "markdown",
   "metadata": {},
   "source": [
    "# Ejercicio 1- Utilizar operadores aritmeticos"
   ]
  },
  {
   "cell_type": "code",
   "execution_count": null,
   "metadata": {},
   "outputs": [],
   "source": [
    "# Crear las variables\n",
    "\n",
    "distanciaTierra = 149597870\n",
    "distanciaJupiter = 778547200"
   ]
  },
  {
   "cell_type": "code",
   "execution_count": null,
   "metadata": {},
   "outputs": [],
   "source": [
    "# Realizar la operacion\n",
    "\n",
    "distanciaEntrePlanetas = abs(distanciaTierra - distanciaJupiter)\n",
    "distanciaMillas = abs(round(distanciaEntrePlanetas * 0.621))\n",
    "print(distanciaEntrePlanetas)\n",
    "print(distanciaMillas)"
   ]
  },
  {
   "cell_type": "markdown",
   "metadata": {},
   "source": [
    "# Ejercicio 2: convierte cadenas en numeros y usa valores absolutos"
   ]
  },
  {
   "cell_type": "code",
   "execution_count": 25,
   "metadata": {},
   "outputs": [],
   "source": [
    "# leer los valores\n",
    "\n",
    "primerPlaneta = input('Ingresa la distancia hacia el sol del primer planeta')\n",
    "segundoPlaneta = input('Ingresa la distancia hacia el sol del segundo planeta')\n",
    "\n"
   ]
  },
  {
   "cell_type": "code",
   "execution_count": 26,
   "metadata": {},
   "outputs": [],
   "source": [
    "# Convertir a numeros\n",
    "\n",
    "planetaUno = int(primerPlaneta)\n",
    "planetaDos = int(segundoPlaneta)"
   ]
  },
  {
   "cell_type": "code",
   "execution_count": 27,
   "metadata": {},
   "outputs": [
    {
     "name": "stdout",
     "output_type": "stream",
     "text": [
      "La distancia en kilometros es: 78300000\n",
      "La distancia en millas es: 48624300\n"
     ]
    }
   ],
   "source": [
    "# Realizar el calculo y convertir a valor absoluto\n",
    "\n",
    "# Calculo\n",
    "distancia = abs(planetaUno - planetaDos)\n",
    "print(\"La distancia en kilometros es: \" + str(distancia))\n",
    "\n",
    "# Convertir kilometros a millas\n",
    "distanciaMillasNuevo = abs(round(distancia * 0.621))\n",
    "print(\"La distancia en millas es: \" + str(distanciaMillasNuevo))"
   ]
  },
  {
   "cell_type": "code",
   "execution_count": null,
   "metadata": {},
   "outputs": [],
   "source": []
  }
 ],
 "metadata": {
  "interpreter": {
   "hash": "38740d3277777e2cd7c6c2cc9d8addf5118fdf3f82b1b39231fd12aeac8aee8b"
  },
  "kernelspec": {
   "display_name": "Python 3.10.2 64-bit",
   "language": "python",
   "name": "python3"
  },
  "language_info": {
   "codemirror_mode": {
    "name": "ipython",
    "version": 3
   },
   "file_extension": ".py",
   "mimetype": "text/x-python",
   "name": "python",
   "nbconvert_exporter": "python",
   "pygments_lexer": "ipython3",
   "version": "3.10.2"
  },
  "orig_nbformat": 4
 },
 "nbformat": 4,
 "nbformat_minor": 2
}
