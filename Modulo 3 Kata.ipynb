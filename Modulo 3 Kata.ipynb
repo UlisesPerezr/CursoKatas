{
 "cells": [
  {
   "cell_type": "markdown",
   "metadata": {},
   "source": [
    "# Ejercicio - Escribir declaraciones if, else, y elif"
   ]
  },
  {
   "cell_type": "code",
   "execution_count": 5,
   "metadata": {},
   "outputs": [
    {
     "name": "stdout",
     "output_type": "stream",
     "text": [
      "¡el asteroide se acerca a la tierra!\n",
      "El asteroide se encuentra cercas de la Tierra con una velicidad de 10 Km/s.\n",
      "El asteroide es muy lento como para atravesar la atmosfera. ¡Enhorabuena!\n"
     ]
    }
   ],
   "source": [
    "# Problema No.1.\n",
    "# Determinar si un asteroide es peligroso apara la tierra.\n",
    "\n",
    "print(\"¡el asteroide se acerca a la tierra!\")\n",
    "velocidad = input(\"¿A que velocidad viaja el asteroide?\")\n",
    "print(\"El asteroide se encuentra cercas de la Tierra con una velicidad de \" + velocidad\n",
    " + \" Km/s.\")\n",
    "if int(velocidad) > 25:\n",
    "    print(\"ADVERTENCIA: Un asteroide esta a punto de ingresar a la atmosfera de la Tierra\")\n",
    "else:\n",
    "    print(\"El asteroide es muy lento como para atravesar la atmosfera. ¡Enhorabuena!\")"
   ]
  },
  {
   "cell_type": "code",
   "execution_count": 6,
   "metadata": {},
   "outputs": [
    {
     "name": "stdout",
     "output_type": "stream",
     "text": [
      "El asteroide no es peligoso para las personas del mundo\n",
      "Pueden seguir con sus actividades\n"
     ]
    }
   ],
   "source": [
    "# Prtoblema No.2.\n",
    "# Determinar la gravedad de un asteroide dentro de la atmosfera.\n",
    "\n",
    "asteroide = 19\n",
    "if asteroide >= 20:\n",
    "    print(\"Se aprecian rayos aleatorios en el ciela\")\n",
    "    print(\"Se pide a las personas de todo el mundo mirar al cielo para distinguir el asteroide\")\n",
    "elif asteroide <= 19:\n",
    "    print(\"El asteroide no es peligoso para las personas del mundo\")\n",
    "    print(\"Pueden seguir con sus actividades\")\n",
    "else:\n",
    "    print(\"No existe un asteroide\")"
   ]
  },
  {
   "cell_type": "markdown",
   "metadata": {},
   "source": [
    "# Ejercicio de operadores and y or"
   ]
  },
  {
   "cell_type": "code",
   "execution_count": 8,
   "metadata": {},
   "outputs": [
    {
     "name": "stdout",
     "output_type": "stream",
     "text": [
      "ADVERTENCIA DE ASTEROIDE\n",
      "El asteroide se devanecera mientras desciende de la atmosfera\n",
      "Se distinguen rayos en el cielo\n"
     ]
    }
   ],
   "source": [
    "# Problema No.3\n",
    "# Determinar si el asteroide golpeara en la tierra\n",
    "\n",
    "velocidad_asteroide = 20\n",
    "dimension_asteroide = 20\n",
    "if dimension_asteroide > 25 and dimension_asteroide < 1000:\n",
    "    if velocidad_asteroide >= 20:\n",
    "        print(\"ADVERTENCIA DE ASTEROIDE\")\n",
    "        print(\"El asteroide ocacionada daños graves\")\n",
    "        print(\"Se distinguen rayos en el cielo\")\n",
    "    else:\n",
    "        print(\"El asteroide causara muchos daños\")\n",
    "elif dimension_asteroide < 25:\n",
    "    if velocidad_asteroide >= 20:\n",
    "        print(\"ADVERTENCIA DE ASTEROIDE\")\n",
    "        print(\"El asteroide se devanecera mientras desciende de la atmosfera\")\n",
    "        print(\"Se distinguen rayos en el cielo\")\n",
    "    else:\n",
    "        print(\"El asteroide se devanecera mientra desciende\")\n",
    "\n",
    "\n",
    "\n",
    "\n",
    "\n",
    "    \n",
    "    \n"
   ]
  }
 ],
 "metadata": {
  "interpreter": {
   "hash": "38740d3277777e2cd7c6c2cc9d8addf5118fdf3f82b1b39231fd12aeac8aee8b"
  },
  "kernelspec": {
   "display_name": "Python 3.10.2 64-bit",
   "language": "python",
   "name": "python3"
  },
  "language_info": {
   "codemirror_mode": {
    "name": "ipython",
    "version": 3
   },
   "file_extension": ".py",
   "mimetype": "text/x-python",
   "name": "python",
   "nbconvert_exporter": "python",
   "pygments_lexer": "ipython3",
   "version": "3.10.2"
  },
  "orig_nbformat": 4
 },
 "nbformat": 4,
 "nbformat_minor": 2
}
