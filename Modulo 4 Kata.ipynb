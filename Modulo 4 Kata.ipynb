{
 "cells": [
  {
   "cell_type": "markdown",
   "metadata": {},
   "source": [
    "# Ejercicio 1: Transformar cadenas"
   ]
  },
  {
   "cell_type": "code",
   "execution_count": null,
   "metadata": {},
   "outputs": [],
   "source": [
    "text = \"\"\"Interesting facts about the Moon. The Moon is Earth's only satellite. There are several interesting facts about the Moon and how it affects life here on Earth. \n",
    "On average, the Moon moves 4cm away from the Earth every year. This yearly drift is not significant enough to cause immediate effects on Earth. The highest daylight temperature of the Moon is 127 C.\"\"\"\n",
    "print(text)"
   ]
  },
  {
   "cell_type": "code",
   "execution_count": null,
   "metadata": {},
   "outputs": [],
   "source": [
    "# Problema No.1\n",
    "# Dividir el texto\n",
    "\n",
    "texto_dividido = text.split('. ')\n",
    "texto_dividido\n"
   ]
  },
  {
   "cell_type": "code",
   "execution_count": null,
   "metadata": {},
   "outputs": [],
   "source": [
    "# Problema No.2\n",
    "# Declaracion de pistas\n",
    "\n",
    "palabras_clave = ['average','temperature','distance']\n"
   ]
  },
  {
   "cell_type": "code",
   "execution_count": null,
   "metadata": {},
   "outputs": [],
   "source": [
    "#Problema No.3\n",
    "# Busqueda de pistas\n",
    "for informacion in texto_dividido:\n",
    "    for palabra in palabras_clave:\n",
    "        if palabra in informacion:\n",
    "            print(informacion)\n",
    "            \n"
   ]
  },
  {
   "cell_type": "code",
   "execution_count": null,
   "metadata": {},
   "outputs": [],
   "source": [
    "# Problema No.4\n",
    "# Cambiar C a Celsius\n",
    "\n",
    "for informacion in texto_dividido:\n",
    "    for palabra in palabras_clave:\n",
    "        if palabra in informacion:\n",
    "            print(informacion.replace('C','Celsius'))\n",
    "            \n",
    "\n"
   ]
  },
  {
   "cell_type": "markdown",
   "metadata": {},
   "source": [
    "# Ejercicio 2"
   ]
  },
  {
   "cell_type": "code",
   "execution_count": null,
   "metadata": {},
   "outputs": [],
   "source": [
    "# Datos con que se va a trabajar\n",
    "\n",
    "name = \"Moon\"\n",
    "gravity = 0.00162 # in kms\n",
    "planet = \"Earth\""
   ]
  },
  {
   "cell_type": "code",
   "execution_count": null,
   "metadata": {},
   "outputs": [],
   "source": [
    "# Creamos el titulo\n",
    "\n",
    "titulo = f'La {planet} y la {name} '\n",
    "print(titulo)"
   ]
  },
  {
   "cell_type": "code",
   "execution_count": null,
   "metadata": {},
   "outputs": [],
   "source": [
    "# creamos la plantilla\n",
    "\n",
    "plantilla = f\"\"\"Gravyty Facts about {name}\n",
    "------------------------------------------------------------\n",
    "Planet Name: {planet}\n",
    "Gravity on {name}: {gravity * 1000} m/s2\"\"\"\n"
   ]
  },
  {
   "cell_type": "code",
   "execution_count": null,
   "metadata": {},
   "outputs": [],
   "source": [
    "# Union de ambas cadenas\n",
    "print(f'{titulo} {plantilla}')"
   ]
  },
  {
   "cell_type": "code",
   "execution_count": null,
   "metadata": {},
   "outputs": [],
   "source": [
    "# Nuevos datos\n",
    "\n",
    "planeta = 'Marte '\n",
    "gravedad  = 0.00143\n",
    "nombre = 'Ganímedes'\n",
    "\n",
    "# impresion de los nuevos datos\n",
    "\n",
    "print(plantilla)"
   ]
  },
  {
   "cell_type": "code",
   "execution_count": null,
   "metadata": {},
   "outputs": [],
   "source": [
    "# nueva plantilla\n",
    "new_plantilla = \"\"\"Gravyty Facts about {2}\n",
    "------------------------------------------------------------\n",
    "Planet Name: {0}\n",
    "Gravity on {2}: {1} m/s2\"\"\".format(planeta, gravedad * 1000, nombre)\n",
    "\n",
    "print(new_plantilla)"
   ]
  }
 ],
 "metadata": {
  "interpreter": {
   "hash": "38740d3277777e2cd7c6c2cc9d8addf5118fdf3f82b1b39231fd12aeac8aee8b"
  },
  "kernelspec": {
   "display_name": "Python 3.10.2 64-bit",
   "language": "python",
   "name": "python3"
  },
  "language_info": {
   "codemirror_mode": {
    "name": "ipython",
    "version": 3
   },
   "file_extension": ".py",
   "mimetype": "text/x-python",
   "name": "python",
   "nbconvert_exporter": "python",
   "pygments_lexer": "ipython3",
   "version": "3.10.2"
  },
  "orig_nbformat": 4
 },
 "nbformat": 4,
 "nbformat_minor": 2
}
